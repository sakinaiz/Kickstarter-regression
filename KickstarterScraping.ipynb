{
 "cells": [
  {
   "cell_type": "code",
   "execution_count": 1,
   "metadata": {
    "collapsed": true
   },
   "outputs": [],
   "source": [
    "import pandas as pd\n",
    "\n",
    "import json\n",
    "import re\n",
    "import os\n",
    "import time\n",
    "import pickle\n",
    "\n",
    "from selenium import webdriver\n",
    "from selenium.common.exceptions import NoSuchElementException\n",
    "\n",
    "import requests\n",
    "from bs4 import BeautifulSoup\n",
    "\n",
    "chromedriver = \"/Applications/chromedriver\" # path to the chromedriver executable\n",
    "os.environ[\"webdriver.chrome.driver\"] = chromedriver\n",
    "\n",
    "driver = webdriver.Chrome(chromedriver)"
   ]
  },
  {
   "cell_type": "markdown",
   "metadata": {},
   "source": [
    "### Launch the Kickstarter website"
   ]
  },
  {
   "cell_type": "code",
   "execution_count": 2,
   "metadata": {
    "collapsed": true
   },
   "outputs": [],
   "source": [
    "KICKSTARTER_URL = 'https://www.kickstarter.com/discover/advanced'\n",
    "driver.get(KICKSTARTER_URL)"
   ]
  },
  {
   "cell_type": "markdown",
   "metadata": {},
   "source": [
    "### Select the location as Unites States from the pull down menu"
   ]
  },
  {
   "cell_type": "code",
   "execution_count": 3,
   "metadata": {
    "collapsed": true
   },
   "outputs": [],
   "source": [
    "driver.find_element_by_id(\"location_filter\").click()\n",
    "driver.find_element_by_link_text('United States').click()"
   ]
  },
  {
   "cell_type": "markdown",
   "metadata": {},
   "source": [
    "### Sort the entries on the page based on Most Funded"
   ]
  },
  {
   "cell_type": "code",
   "execution_count": 4,
   "metadata": {
    "collapsed": true
   },
   "outputs": [],
   "source": [
    "driver.find_element_by_id(\"sorts\").click()\n",
    "driver.find_element_by_link_text('Most Funded').click()"
   ]
  },
  {
   "cell_type": "markdown",
   "metadata": {},
   "source": [
    "### Find the names and ids of the various categories of the projects"
   ]
  },
  {
   "cell_type": "code",
   "execution_count": 5,
   "metadata": {
    "collapsed": true
   },
   "outputs": [],
   "source": [
    "driver.find_element_by_id(\"category_filter\").click()\n",
    "categories_menu = driver.find_element_by_class_name('js-root-categories')\n",
    "categories_list = categories_menu.find_elements_by_tag_name('li')\n",
    "categories_name = [c.text for c in categories_list]\n",
    "categories_id = [c.find_element_by_tag_name('a').get_attribute('data-id') for c in categories_list]"
   ]
  },
  {
   "cell_type": "markdown",
   "metadata": {},
   "source": [
    "### Ignore the first entry"
   ]
  },
  {
   "cell_type": "code",
   "execution_count": 6,
   "metadata": {},
   "outputs": [
    {
     "name": "stdout",
     "output_type": "stream",
     "text": [
      "1---Art\n",
      "3---Comics\n",
      "26---Crafts\n",
      "6---Dance\n",
      "7---Design\n",
      "9---Fashion\n",
      "11---Film & Video\n",
      "10---Food\n",
      "12---Games\n",
      "13---Journalism\n",
      "14---Music\n",
      "15---Photography\n",
      "18---Publishing\n",
      "16---Technology\n",
      "17---Theater\n"
     ]
    }
   ],
   "source": [
    "categories_name = categories_name[1:]\n",
    "categories_id = categories_id[1:]\n",
    "for name, cid in zip(categories_name, categories_id):\n",
    "    print(cid + '---' + name)"
   ]
  },
  {
   "cell_type": "markdown",
   "metadata": {},
   "source": [
    "### Get the URL of the first page of the first category "
   ]
  },
  {
   "cell_type": "code",
   "execution_count": 7,
   "metadata": {},
   "outputs": [
    {
     "name": "stdout",
     "output_type": "stream",
     "text": [
      "https://www.kickstarter.com/discover/advanced?category_id=1&woe_id=23424977&sort=most_funded&seed=2529653&page=1\n"
     ]
    }
   ],
   "source": [
    "prev_url = driver.current_url\n",
    "driver.find_element_by_link_text(categories_name[0]).click()\n",
    "driver.find_element_by_id('category_'+categories_id[0]).click()\n",
    "category_url = driver.current_url\n",
    "while prev_url==category_url:\n",
    "    category_url = driver.current_url\n",
    "\n",
    "print(category_url)"
   ]
  },
  {
   "cell_type": "markdown",
   "metadata": {},
   "source": [
    "### Generate the URLs of the other categories using the above URL as the base"
   ]
  },
  {
   "cell_type": "code",
   "execution_count": 8,
   "metadata": {
    "collapsed": true
   },
   "outputs": [],
   "source": [
    "# change the category id in the above URL\n",
    "category_url_list = []\n",
    "for cid in categories_id:\n",
    "    category_url_list.append(re.sub('1',cid, category_url, 1))"
   ]
  },
  {
   "cell_type": "code",
   "execution_count": 9,
   "metadata": {
    "scrolled": true
   },
   "outputs": [
    {
     "data": {
      "text/plain": [
       "['https://www.kickstarter.com/discover/advanced?category_id=1&woe_id=23424977&sort=most_funded&seed=2529653&page=1',\n",
       " 'https://www.kickstarter.com/discover/advanced?category_id=3&woe_id=23424977&sort=most_funded&seed=2529653&page=1',\n",
       " 'https://www.kickstarter.com/discover/advanced?category_id=26&woe_id=23424977&sort=most_funded&seed=2529653&page=1',\n",
       " 'https://www.kickstarter.com/discover/advanced?category_id=6&woe_id=23424977&sort=most_funded&seed=2529653&page=1',\n",
       " 'https://www.kickstarter.com/discover/advanced?category_id=7&woe_id=23424977&sort=most_funded&seed=2529653&page=1',\n",
       " 'https://www.kickstarter.com/discover/advanced?category_id=9&woe_id=23424977&sort=most_funded&seed=2529653&page=1',\n",
       " 'https://www.kickstarter.com/discover/advanced?category_id=11&woe_id=23424977&sort=most_funded&seed=2529653&page=1',\n",
       " 'https://www.kickstarter.com/discover/advanced?category_id=10&woe_id=23424977&sort=most_funded&seed=2529653&page=1',\n",
       " 'https://www.kickstarter.com/discover/advanced?category_id=12&woe_id=23424977&sort=most_funded&seed=2529653&page=1',\n",
       " 'https://www.kickstarter.com/discover/advanced?category_id=13&woe_id=23424977&sort=most_funded&seed=2529653&page=1',\n",
       " 'https://www.kickstarter.com/discover/advanced?category_id=14&woe_id=23424977&sort=most_funded&seed=2529653&page=1',\n",
       " 'https://www.kickstarter.com/discover/advanced?category_id=15&woe_id=23424977&sort=most_funded&seed=2529653&page=1',\n",
       " 'https://www.kickstarter.com/discover/advanced?category_id=18&woe_id=23424977&sort=most_funded&seed=2529653&page=1',\n",
       " 'https://www.kickstarter.com/discover/advanced?category_id=16&woe_id=23424977&sort=most_funded&seed=2529653&page=1',\n",
       " 'https://www.kickstarter.com/discover/advanced?category_id=17&woe_id=23424977&sort=most_funded&seed=2529653&page=1']"
      ]
     },
     "execution_count": 9,
     "metadata": {},
     "output_type": "execute_result"
    }
   ],
   "source": [
    "category_url_list"
   ]
  },
  {
   "cell_type": "code",
   "execution_count": 10,
   "metadata": {
    "collapsed": true
   },
   "outputs": [],
   "source": [
    "driver.quit()"
   ]
  },
  {
   "cell_type": "markdown",
   "metadata": {},
   "source": [
    "### Get the project info for all the projects in each category "
   ]
  },
  {
   "cell_type": "markdown",
   "metadata": {},
   "source": [
    "### Using BeautifulSoup"
   ]
  },
  {
   "cell_type": "code",
   "execution_count": null,
   "metadata": {
    "collapsed": true,
    "scrolled": true
   },
   "outputs": [],
   "source": [
    "# Using BeautifulSoup\n",
    "all_proj_list = []\n",
    "\n",
    "for category, url in zip(categories_name, category_url_list):\n",
    "    page_num = 1\n",
    "    while True:\n",
    "    #while page_num<3:\n",
    "        curr_url = url[:-1]+str(page_num)\n",
    "        response = requests.get(curr_url)\n",
    "        if response.status_code!=200:\n",
    "            print('Category: %s has no page: %d' %(category, page_num))\n",
    "            break\n",
    "        \n",
    "        print(curr_url)\n",
    "        \n",
    "        page_soup = BeautifulSoup(response.text, \"html5lib\")\n",
    "        div_tags = page_soup.findAll('div', {'class':'js-react-proj-card col-full col-sm-12-24 col-lg-8-24'}) \n",
    "        \n",
    "        \n",
    "        project_div_list = []\n",
    "        for tag in div_tags:\n",
    "            project_div_list.append(tag['data-project'])\n",
    "\n",
    "        for proj_div in project_div_list:\n",
    "            proj = json.loads(proj_div)\n",
    "            proj_dict = {'category': category,\n",
    "                         'project_id': proj['id'],\n",
    "                         'project_name': proj['name'],\n",
    "                         'blurb':proj['blurb'],\n",
    "                         'goal_amount':proj['goal'],\n",
    "                         'pledged_amount':proj['pledged'],\n",
    "                         'fx_rate':proj['fx_rate'],\n",
    "                         'currency':proj['currency'],\n",
    "                         'project_status':proj['state'],\n",
    "                         'location':proj['location']['short_name'],\n",
    "                         'city':proj['location']['localized_name'],\n",
    "                         'state':proj['location']['state'],\n",
    "                         'country':proj['country'],\n",
    "                         #'country':proj['country'],\n",
    "                         #'state':proj['location']['state'],\n",
    "                         'subcategory':proj['category']['name'],\n",
    "                         #'parent_id':proj['category']['parent_id'],\n",
    "                         'percent_funded':proj['percent_funded'],\n",
    "                         'state_changed_at':proj['state_changed_at'],\n",
    "                         'created_at':proj['created_at'],\n",
    "                         'launched_at':proj['launched_at'],\n",
    "                         'deadline':proj['deadline'],\n",
    "                         'backers':proj['backers_count'],\n",
    "                         'project_url':proj['urls']['web']['project'],\n",
    "                         'rewards_url':proj['urls']['web']['rewards']\n",
    "                        }\n",
    "            all_proj_list.append(proj_dict)\n",
    "            \n",
    "        page_num += 1\n",
    "        "
   ]
  },
  {
   "cell_type": "markdown",
   "metadata": {},
   "source": [
    "### Tried the same with Selenium !!!"
   ]
  },
  {
   "cell_type": "raw",
   "metadata": {},
   "source": [
    "# using selenium \n",
    "driver.get(KICKSTARTER_URL)\n",
    "all_proj_list = []\n",
    "\n",
    "for category, url in zip(categories_name, category_url_list):\n",
    "    page_num = 1\n",
    "    while True:\n",
    "    #while page_num<3:\n",
    "        prev_url = driver.current_url\n",
    "        driver.get(url[:-1]+str(page_num))\n",
    "        while prev_url==driver.current_url:\n",
    "            time.sleep(1)\n",
    "        try:\n",
    "            project_section = driver.find_element_by_id('projects_list')\n",
    "        except NoSuchElementException:\n",
    "            break\n",
    "        \n",
    "        print(url[:-1]+str(page_num))\n",
    "        \n",
    "        div_tags = project_section.find_elements_by_class_name('js-react-proj-card')\n",
    "        project_div_list = []\n",
    "        for tag in div_tags:\n",
    "            project_div_list.append(tag.get_attribute('data-project'))\n",
    "\n",
    "        for proj_div in project_div_list:\n",
    "            proj = json.loads(proj_div)\n",
    "            proj_dict = {'category': category,\n",
    "                         'project_id': proj['id'],\n",
    "                         'project_name': proj['name'],\n",
    "                         'blurb':proj['blurb'],\n",
    "                         'goal_amount':proj['goal'],\n",
    "                         'pledged_amount':proj['pledged'],\n",
    "                         'fx_rate':proj['fx_rate'],\n",
    "                         'currency':proj['currency'],\n",
    "                         'project_status':proj['state'],\n",
    "                         'location':proj['location']['short_name'],\n",
    "                         'city':proj['location']['localized_name'],\n",
    "                         'state':proj['location']['state'],\n",
    "                         'country':proj['country'],\n",
    "                         #'country':proj['country'],\n",
    "                         #'state':proj['location']['state'],\n",
    "                         'subcategory':proj['category']['name'],\n",
    "                         #'parent_id':proj['category']['parent_id'],\n",
    "                         'percent_funded':proj['percent_funded'],\n",
    "                         'state_changed_at':proj['state_changed_at'],\n",
    "                         'created_at':proj['created_at'],\n",
    "                         'launched_at':proj['launched_at'],\n",
    "                         'deadline':proj['deadline'],\n",
    "                         'backers':proj['backers_count'],\n",
    "                         'project_url':proj['urls']['web']['project'],\n",
    "                         'rewards_url':proj['urls']['web']['rewards']\n",
    "                        }\n",
    "            all_proj_list.append(proj_dict)\n",
    "            \n",
    "        page_num += 1\n",
    "        "
   ]
  },
  {
   "cell_type": "markdown",
   "metadata": {},
   "source": [
    "### Create a pandas dataframe"
   ]
  },
  {
   "cell_type": "code",
   "execution_count": null,
   "metadata": {
    "collapsed": true
   },
   "outputs": [],
   "source": [
    "proj_dict.keys()"
   ]
  },
  {
   "cell_type": "code",
   "execution_count": null,
   "metadata": {
    "collapsed": true
   },
   "outputs": [],
   "source": [
    "project_df = pd.DataFrame(all_proj_list, \n",
    "                          columns=['category', 'subcategory', 'project_id','project_name', 'blurb',\n",
    "                                   'goal_amount', 'pledged_amount', 'percent_funded', 'currency', 'fx_rate',\n",
    "                                   'project_status', 'location', 'city', 'state', 'country',\n",
    "                                   'state_changed_at', 'created_at', 'launched_at','deadline',\n",
    "                                   'backers', 'project_url', 'rewards_url'])"
   ]
  },
  {
   "cell_type": "code",
   "execution_count": null,
   "metadata": {
    "collapsed": true
   },
   "outputs": [],
   "source": [
    "project_df.to_csv('KickstarterScrapeDataBS.csv', index=False)"
   ]
  },
  {
   "cell_type": "markdown",
   "metadata": {},
   "source": [
    "## Initial cleaning of data"
   ]
  },
  {
   "cell_type": "code",
   "execution_count": null,
   "metadata": {},
   "outputs": [],
   "source": [
    "project_df = pd.read_csv('KickstarterScrapeDataBS.csv')"
   ]
  },
  {
   "cell_type": "markdown",
   "metadata": {},
   "source": [
    "### Convert dates to datetime objects"
   ]
  },
  {
   "cell_type": "code",
   "execution_count": null,
   "metadata": {
    "collapsed": true
   },
   "outputs": [],
   "source": [
    "project_df['state_changed_at'] = pd.to_datetime(project_df['state_changed_at'], unit='s')\n",
    "project_df['created_at'] = pd.to_datetime(project_df['created_at'], unit='s')\n",
    "project_df['launched_at'] = pd.to_datetime(project_df['launched_at'], unit='s')\n",
    "project_df['deadline'] = pd.to_datetime(project_df['deadline'], unit='s')"
   ]
  },
  {
   "cell_type": "code",
   "execution_count": null,
   "metadata": {
    "collapsed": true
   },
   "outputs": [],
   "source": [
    "project_df['duration'] = (project_df['deadline']-project_df['launched_at']).dt.days"
   ]
  },
  {
   "cell_type": "code",
   "execution_count": null,
   "metadata": {},
   "outputs": [],
   "source": [
    "project_df.drop_duplicates(['project_id', 'project_url'], inplace=True)\n",
    "project_df.shape"
   ]
  },
  {
   "cell_type": "code",
   "execution_count": null,
   "metadata": {},
   "outputs": [],
   "source": [
    "project_df = project_df[project_df['country']=='US']\n",
    "project_df.shape"
   ]
  },
  {
   "cell_type": "code",
   "execution_count": null,
   "metadata": {},
   "outputs": [],
   "source": [
    "project_df = project_df[(project_df['project_status']!='suspended') & (project_df['project_status']!='canceled')]\n",
    "project_df.shape"
   ]
  },
  {
   "cell_type": "code",
   "execution_count": null,
   "metadata": {},
   "outputs": [],
   "source": [
    "project_df.head()"
   ]
  },
  {
   "cell_type": "markdown",
   "metadata": {},
   "source": [
    "### Get the reward levels for all the projects"
   ]
  },
  {
   "cell_type": "code",
   "execution_count": null,
   "metadata": {
    "collapsed": true
   },
   "outputs": [],
   "source": [
    "def getRewardsBackers(rewards_url):\n",
    "    #headers = {'Mozilla/5.0 (Macintosh; Intel Mac OS X 10_13_3) AppleWebKit/604.5.6 (KHTML, like Gecko) \\\n",
    "    #            Version/11.0.3 Safari/604.5.6'}\n",
    "\n",
    "    response = requests.get(url)\n",
    "    if response.status_code!=200:\n",
    "        print('request failed at index, url: %d, %s' %(idx, url))\n",
    "        return None\n",
    "    soup = BeautifulSoup(response.text, \"html5lib\")\n",
    "\n",
    "    rewards_list = []\n",
    "    backers_list = []\n",
    "        #print(idx, url)\n",
    "        \n",
    "    for pledge in soup.findAll('div',{'class':'pledge__info'}):\n",
    "        tmp1 = pledge.find('span',{'class':'money'})\n",
    "        if tmp1:\n",
    "            rewards_list.append(tmp1.text)\n",
    "                #rewards_list.append(re.sub('[^0-9]', '',tmp1.text))\n",
    "        else:\n",
    "            continue \n",
    "        tmp2 = pledge.find('span',{'class':'pledge__backer-count'})\n",
    "        if tmp2:\n",
    "            backers_list.append(tmp2.text)\n",
    "                #backers_list.append(re.sub(' backers*', '', tmp2.text.strip()))\n",
    "        else:\n",
    "            rewards_list.pop()\n",
    "                                \n",
    "    return rewards_list, backers_list"
   ]
  },
  {
   "cell_type": "code",
   "execution_count": null,
   "metadata": {},
   "outputs": [],
   "source": [
    "all_proj_rewards = []\n",
    "all_proj_backers = []\n",
    "rewards_url_arr = project_df['rewards_url'].as_matrix()\n",
    "\n",
    "idx = 1\n",
    "for url in rewards_url_arr:    \n",
    "    rewards_list, backers_list = getRewardsBackers(url)\n",
    "   \n",
    "    all_proj_rewards.append(rewards_list)\n",
    "    all_proj_backers.append(backers_list)\n",
    "    \n",
    "    idx += 1\n",
    "    \n",
    "    if (idx%200==0):\n",
    "        print(url)\n"
   ]
  },
  {
   "cell_type": "code",
   "execution_count": null,
   "metadata": {
    "collapsed": true
   },
   "outputs": [],
   "source": [
    "with open(\"all_proj_rewards2.txt\", \"wb\") as fpr:   #Pickling\n",
    "    pickle.dump(all_proj_rewards, fpr)\n",
    "\n",
    "with open(\"all_proj_backers2.txt\", \"wb\") as fpb:   #Pickling\n",
    "    pickle.dump(all_proj_backers, fpb)"
   ]
  },
  {
   "cell_type": "markdown",
   "metadata": {},
   "source": [
    "### create the rewards_tier and backers_tier columns"
   ]
  },
  {
   "cell_type": "code",
   "execution_count": null,
   "metadata": {
    "collapsed": true
   },
   "outputs": [],
   "source": [
    "proj_rewards = []\n",
    "proj_backers = []\n",
    "for rewards, backers in zip(all_proj_rewards, all_proj_backers):\n",
    "    rewards_list = [re.sub('[^0-9]', '',r) for r in rewards]\n",
    "    backers_list = [re.sub(' backers*', '', b.strip()) for b in backers]\n",
    "    \n",
    "    proj_rewards.append(rewards_list)\n",
    "    proj_backers.append(backers_list)"
   ]
  },
  {
   "cell_type": "code",
   "execution_count": null,
   "metadata": {
    "collapsed": true
   },
   "outputs": [],
   "source": [
    "project_df['rewards_tier'] = proj_rewards \n",
    "project_df['backers_tier'] = proj_backers "
   ]
  },
  {
   "cell_type": "markdown",
   "metadata": {},
   "source": [
    "### Save the dataframe to file"
   ]
  },
  {
   "cell_type": "code",
   "execution_count": null,
   "metadata": {
    "collapsed": true
   },
   "outputs": [],
   "source": [
    "project_df.to_csv('KickstarterScrapeDataBS_final.csv', index=False)"
   ]
  },
  {
   "cell_type": "code",
   "execution_count": null,
   "metadata": {
    "collapsed": true
   },
   "outputs": [],
   "source": [
    "project_df.to_pickle('KickstarterScrapeDataBS_final.txt')"
   ]
  },
  {
   "cell_type": "markdown",
   "metadata": {},
   "source": [
    "### Tried with Selenium "
   ]
  },
  {
   "cell_type": "raw",
   "metadata": {
    "collapsed": true
   },
   "source": [
    "all_proj_rewards = []\n",
    "all_proj_backers = []\n",
    "\n",
    "for reward_url in project_df['rewards_url']:\n",
    "    driver.get(reward_url)\n",
    "    \n",
    "    rewards_list = []\n",
    "    backers_list = []\n",
    "    \n",
    "    ol_tag = driver.find_element_by_tag_name('ol')\n",
    "    for amt in ol_tag.find_elements_by_class_name('pledge__amount'):\n",
    "        rewards_list.append(amt.text)\n",
    "    for backer in ol_tag.find_elements_by_class_name('pledge__backer-count'):\n",
    "        backers_list.append(backer.text)\n",
    "        \n",
    "    all_proj_rewards.append(rewards_list)\n",
    "    all_proj_backers.append(backers_list)\n",
    "    \n",
    "project_df['rewards_tier'] = all_proj_rewards \n",
    "project_df['backers_tier'] = all_proj_backers "
   ]
  },
  {
   "cell_type": "code",
   "execution_count": null,
   "metadata": {
    "collapsed": true
   },
   "outputs": [],
   "source": []
  }
 ],
 "metadata": {
  "kernelspec": {
   "display_name": "Python 3",
   "language": "python",
   "name": "python3"
  },
  "language_info": {
   "codemirror_mode": {
    "name": "ipython",
    "version": 3
   },
   "file_extension": ".py",
   "mimetype": "text/x-python",
   "name": "python",
   "nbconvert_exporter": "python",
   "pygments_lexer": "ipython3",
   "version": "3.6.4"
  },
  "toc": {
   "nav_menu": {},
   "number_sections": false,
   "sideBar": true,
   "skip_h1_title": false,
   "title_cell": "Table of Contents",
   "title_sidebar": "Contents",
   "toc_cell": false,
   "toc_position": {},
   "toc_section_display": true,
   "toc_window_display": false
  },
  "varInspector": {
   "cols": {
    "lenName": 16,
    "lenType": 16,
    "lenVar": 40
   },
   "kernels_config": {
    "python": {
     "delete_cmd_postfix": "",
     "delete_cmd_prefix": "del ",
     "library": "var_list.py",
     "varRefreshCmd": "print(var_dic_list())"
    },
    "r": {
     "delete_cmd_postfix": ") ",
     "delete_cmd_prefix": "rm(",
     "library": "var_list.r",
     "varRefreshCmd": "cat(var_dic_list()) "
    }
   },
   "oldHeight": 329,
   "position": {
    "height": "40px",
    "left": "894px",
    "right": "-34px",
    "top": "120px",
    "width": "404px"
   },
   "types_to_exclude": [
    "module",
    "function",
    "builtin_function_or_method",
    "instance",
    "_Feature"
   ],
   "varInspector_section_display": "none",
   "window_display": false
  }
 },
 "nbformat": 4,
 "nbformat_minor": 2
}
